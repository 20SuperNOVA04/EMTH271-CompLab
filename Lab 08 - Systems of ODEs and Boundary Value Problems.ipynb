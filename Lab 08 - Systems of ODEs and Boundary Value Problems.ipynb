{
  "cells": [
    {
      "cell_type": "markdown",
      "metadata": {},
      "source": [
        "# Lab 8: Systems of ODEs and Boundary Value Problems\n",
        "\n",
        "### Topics\n",
        "\n",
        "- **Mathematics:** methods for solving systems of first-order ODEs; converting higher-order ODEs to systems of first-order ODEs; converting boundary value problems to systems of linear equation; effect of changing step size.\n",
        "- **Python:** adapting programs for a solving single ODE so they can solve systems of ODEs; plotting solutions to systems of ODEs; setting up tridiagonal matrices; solving systems of linear equations."
      ]
    },
    {
      "cell_type": "code",
      "execution_count": 1,
      "metadata": {},
      "outputs": [],
      "source": [
        "import math #math.ceil returns int, but numpy.ceil returns float\n",
        "import numpy as np\n",
        "np.set_printoptions(edgeitems=5, linewidth=130, precision=2)\n",
        "\n",
        "from scipy import integrate\n",
        "\n",
        "%matplotlib widget\n",
        "import matplotlib.pyplot as plt\n",
        "from matplotlib.animation import FuncAnimation, PillowWriter"
      ]
    },
    {
      "cell_type": "markdown",
      "metadata": {},
      "source": [
        "## Part I: Systems of ODEs\n",
        "\n",
        "In the previous lab, you used Euler's method to solve a single first-order ODE.  In this lab, you will adapt this method to solve **systems of several ODEs**.  The only real difference is that some of the variables are now vectors instead of scalars, and the output variable `y`, which contains the function values at all intermediate points, will be a matrix instead of a vector – but this doesn't matter to Python.\n",
        "\n",
        "## Question 1\n",
        "\n",
        "Consider a simple pendulum of length $l$ metres which pivots about the point $P$.  We assume that friction and air resistance can be neglected.  If $\\theta$ is the angle (in radians) which the rod of the pendulum makes with the vertical at time $t$, then the motion of the pendulum can be described as a second-order ODE:\n",
        "$$\n",
        "  \\frac{\\mathrm{d}^2\\theta}{\\mathrm{d}t^2}+\\frac{g}{l}\\sin\\theta=0,\\qquad\\qquad(1)\n",
        "$$\n",
        "where $g=9.81\\mathrm{ms}^{-2}$ is acceleration due to gravity.  Notice that this equation is valid even if the pendulum is allowed to perform complete revolutions (as in some of the questions below).\n",
        "1. On paper, rewrite equation (1) as a system of two first-order ODEs involving two dependent variables $y_1=\\theta$ and $y_2=\\mathrm{d}\\theta/\\mathrm{d} t$:\n",
        "    \\begin{align*}\n",
        "      \\frac{\\mathrm{d}y_1}{\\mathrm{d}t} &= \\dots \\\\\n",
        "      \\frac{\\mathrm{d}y_2}{\\mathrm{d}t} &= \\dots\n",
        "    \\end{align*}\n",
        "    Rewrite this system as a vector-valued ODE with just a single dependent variable, the column vector $\\underline{\\mathbf{y}}$.\n",
        "\n",
        "$$\n",
        "      \\frac{\\mathrm{d}\\underline{\\mathbf{y}}}{\\mathrm{d}t}\n",
        "        = \\begin{bmatrix}\n",
        "            \\dots\\\\\n",
        "            \\dots\n",
        "          \\end{bmatrix},\n",
        "      \\qquad {\\rm where} \\qquad\n",
        "      \\underline{\\mathbf{y}}\n",
        "        = \\begin{bmatrix}\n",
        "            y_1 \\\\\n",
        "            y_2\n",
        "          \\end{bmatrix}.\n",
        "$$\n",
        "\n",
        "2. Assume the pendulum has length $l = 0.1\\mathrm{m}$.  Write a short function `fun` which evaluates the right-hand side of the ODE $\\mathrm{d} \\underline{\\mathbf{y}}/\\mathrm{d} t = \\underline{\\mathbf{f}}(t,\\underline{\\mathbf{y}})$ that you obtained in part (1).  The input variable $\\underline{\\mathbf{y}}$ and the output variable $\\underline{\\mathbf{f}}$ should both be 1D vectors."
      ]
    },
    {
      "cell_type": "code",
      "execution_count": null,
      "metadata": {},
      "outputs": [],
      "source": []
    },
    {
      "cell_type": "markdown",
      "metadata": {},
      "source": [
        "3. `scipy.integrate.solve_ivp` works with systems of first order ODEs.  If you store the return value in `sol`, `sol.y` will have the steps as its columns; `sol.y[0]` will be $\\theta$ and `sol.y[1]` will be $\\frac{\\mathrm{d}\\theta}{\\mathrm{d}t}$.  Use `solve_ivp` to solve the system of ODEs with initial conditions $\\theta(0) = \\frac{\\pi}{3}$, $\\left.\\frac{\\mathrm{d}\\theta}{\\mathrm{d}t}\\right|_{t=0} = 0$, up to $t = 5\\mathrm{s}$.  Use the parameter `max_step=.01` to get small steps good for graphing.  Plot your solution for $\\theta$.  Does it make sense?"
      ]
    },
    {
      "cell_type": "code",
      "execution_count": null,
      "metadata": {},
      "outputs": [],
      "source": [
        "type your code here"
      ]
    },
    {
      "cell_type": "markdown",
      "metadata": {},
      "source": [
        "4. The 1-dimensional `euler` function from Lab 7 is below, as `euler_1d`.  Make a copy of it named `euler` modified so it works with systems of DEs.  `y` should have the state vectors in its `n` *columns*, and the number of rows should match the length of `y0`."
      ]
    },
    {
      "cell_type": "code",
      "execution_count": null,
      "metadata": {},
      "outputs": [],
      "source": [
        "def euler_1d(fun, t_span, y0, h):\n",
        "    \"\"\"Solves a single ordinary differential equation using Euler's method.\n",
        "    \n",
        "    Args:\n",
        "        fun (callable): computes the derivative of y at t using fun(t, y)\n",
        "        y0 (np.ndarray): initial condition on y (can be a vector)\n",
        "        t_span (tuple): interval of integration (t0, tf)\n",
        "        h (float): step size\n",
        "    Returns:\n",
        "        t (np.ndarray): array containing the value of t at each time point in [t0, tf]\n",
        "        y (np.ndarray): array containing the value of y at each time point in [t0, tf]\n",
        "    \"\"\"\n",
        "\n",
        "    n = math.ceil((t_span[1] - t_span[0]) / h) + 1\n",
        "    t = np.linspace(t_span[0], t_span[1], n)\n",
        "    y = np.zeros(len(t))\n",
        "\n",
        "    y[0] = y0\n",
        "    for i in range(0, len(t) - 1):\n",
        "        t[i + 1] = t[i] + h\n",
        "        y[i + 1] = y[i] + h * fun(t[i], y[i])\n",
        "    \n",
        "    return t, y"
      ]
    },
    {
      "cell_type": "code",
      "execution_count": null,
      "metadata": {},
      "outputs": [],
      "source": [
        "type your code here"
      ]
    },
    {
      "cell_type": "markdown",
      "metadata": {},
      "source": [
        "5. Solve the pendulum system again using `euler` with a time step of $h = 0.01$.  Plot your solution.  Does it make sense?"
      ]
    },
    {
      "cell_type": "code",
      "execution_count": null,
      "metadata": {},
      "outputs": [],
      "source": [
        "type your code here"
      ]
    },
    {
      "cell_type": "markdown",
      "metadata": {},
      "source": [
        "6. Now make a copy of `euler` and rename it `heun`.  Modify this function so that it solves the ODE by the vector version of Heun's method:\n",
        "    \\begin{align*}\n",
        "      \\underline{\\mathbf{k}}_1 &= \\underline{\\mathbf{f}}(t^{(i)},\\underline{\\mathbf{y}}^{(i)}) \\\\\n",
        "      \\underline{\\mathbf{k}}_2 &= \\underline{\\mathbf{f}}(t^{(i)}+h,\\underline{\\mathbf{y}}^{(i)} +h\\underline{\\mathbf{k}}_1) \\\\\n",
        "      \\underline{\\mathbf{y}}^{(i+1)} &= \\underline{\\mathbf{y}}^{(i)} + \\frac{h}{2}\\left( {\\underline{\\mathbf{k}}_1}+{\\underline{\\mathbf{k}}_2} \\right)\n",
        "    \\end{align*}\n",
        "    Use your new function to solve the same problem with the same step size of $h = 0.01\\mathrm{s}$.  Plot your solution.  Does it make sense?\n",
        "    \n",
        "    **Hint:** The $\\underline{\\mathbf{y}}$ values for the first three steps should be:\n",
        "    ```\n",
        "    array([[ 1.05,  1.04,  1.03],\n",
        "           [ 0.  , -0.85, -1.69]])\n",
        "    ```"
      ]
    },
    {
      "cell_type": "code",
      "execution_count": null,
      "metadata": {},
      "outputs": [],
      "source": [
        "type your code here"
      ]
    },
    {
      "cell_type": "markdown",
      "metadata": {},
      "source": [
        "<div class=\"alert alert-warning\">\n",
        "  <h3 style=\"margin-top: 0;\">Checkpoint 1</h3>\n",
        "\n",
        "  Plot a graph of $\\theta$ against $t$, showing the results from Euler's method, Heun's method and <code>solve_ivp</code> on the same graph.  Can you explain the difference between the different sets of results?\n",
        "</div>"
      ]
    },
    {
      "cell_type": "code",
      "execution_count": null,
      "metadata": {},
      "outputs": [],
      "source": [
        "type your code here"
      ]
    },
    {
      "cell_type": "code",
      "execution_count": null,
      "metadata": {},
      "outputs": [],
      "source": [
        "def animate_pendulum(t, theta, title=None, l=.1):\n",
        "    '''Animates a pendulum from angle data at equally spaced points in time.\n",
        "    Args:\n",
        "        t (np.ndarray): vector of *equally spaced* time values\n",
        "        theta (np.ndarray): vector of pendulum angles at the above times\n",
        "    Returns:\n",
        "        animation (matplotlib.animation.Animation): object representing the animation\n",
        "    \n",
        "    '''\n",
        "    fig, ax = plt.subplots(figsize=(5, 5))\n",
        "    dim = 1.3*l\n",
        "    ax.set(xlim=(-dim, dim), ylim=(-dim, dim))\n",
        "    if title:\n",
        "        ax.set_title(title)\n",
        "    x = l*np.sin(theta)\n",
        "    y = -l*np.cos(theta)\n",
        "    line = ax.plot([0, x[0]], [0, y[0]], '-')[0]\n",
        "    point = ax.plot([x[0]], [y[0]], 'o')[0]\n",
        "    def animate(frame):\n",
        "        line.set_data([0, x[frame]], [0, y[frame]])\n",
        "        point.set_data([x[frame]], [y[frame]])\n",
        "        return [line, point]\n",
        "    animation = FuncAnimation(fig, animate, interval=1000*(t[1]-t[0]), frames=len(t), repeat=False, blit=True)\n",
        "    return animation"
      ]
    },
    {
      "cell_type": "markdown",
      "metadata": {},
      "source": [
        "7. Some physics: Suppose that you start the pendulum in its resting position $\\theta(0)=0$ and give it an initial push (so that $\\left.\\frac{\\mathrm{d}\\theta}{\\mathrm{d}t}\\right|_{t=0}>0$).  How large does $\\left.\\frac{\\mathrm{d}\\theta}{\\mathrm{d}t}\\right|_{t=0}$ have to be for the pendulum to reach the upright position $\\theta=\\pi$? **Hint:** Think about kinetic and potential energy.  The velocity of the pendulum is given by $v = l\\frac{\\mathrm{d}\\theta}{\\mathrm{d}t}$.\n",
        "8. The function `animate_pendulum` above produces animations of the pendulum from a vector of values of $\\theta$ at *equally spaced* points in time.  20 frames per second is a good frame rate, which means time values $0.05\\mathrm{s}$ apart, and this is too big for `heun` to be accurate.  One option is to run `heun` with a smaller time step and then use e.g. every 5th step, but it's easier to use `solve_ivp` and tell it the times you want with the argument `t_eval=t`, where `t` is a vector of times you made with `np.arange` or `np.linspace`.\n",
        "  \n",
        "    <div class=\"alert alert-warning\">\n",
        "      <h3 style=\"margin-top: 0;\">Checkpoint 2</h3>\n",
        "      \n",
        "      Choose two initial values of $\\frac{\\mathrm{d}\\theta}{\\mathrm{d}t}$: one that is slightly smaller than your answer to the above question and one that is slightly larger.  Solve the pendulum problem up to $t=5\\mathrm{s}$ (using either your own function <code>heun</code> or <code>solve_ivp</code>) for both these initial conditions.\n",
        "    \n",
        "      Use <code>animate_pendulum</code> to visualise the movement of the pendulum for the two initial values of $\\frac{\\mathrm{d}\\theta}{\\mathrm{d}t}$ you chose above.      \n",
        "      \n",
        "      Do the animations reflect the behaviour you would expect from a (frictionless) physical system?\n",
        "    </div>\n",
        "    \n",
        "    **Bonus:** The Animation object returned by `animate_pendulum` can save as a GIF with `animation.save('pendulum.gif', dpi=100, writer=PillowWriter(fps=20))`."
      ]
    },
    {
      "cell_type": "code",
      "execution_count": null,
      "metadata": {},
      "outputs": [],
      "source": [
        "type your code here"
      ]
    },
    {
      "cell_type": "code",
      "execution_count": null,
      "metadata": {},
      "outputs": [],
      "source": [
        "type your code here"
      ]
    },
    {
      "cell_type": "markdown",
      "metadata": {},
      "source": [
        "## Part II: Boundary Value problems\n",
        "\n",
        "## Question 2: Tridiagonal matrices\n",
        "\n",
        "Boundary value problems often result in a system of linear equations of the form $A\\underline{\\mathbf{y}} = \\underline{\\mathbf{b}}$ where $A$ is a **tridiagonal** $(n+1)\\times(n+1)$ matrix.  Suppose $h=1/n$ and\n",
        "\n",
        "$$\n",
        "  A = \\begin{bmatrix}\n",
        "        1 &&&&& \\\\\n",
        "        -\\frac{1}{h^2} & \\frac{2}{h^2} & -\\frac{1}{h^2} \\\\\n",
        "        & -\\frac{1}{h^2} & \\frac{2}{h^2} & -\\frac{1}{h^2} \\\\\n",
        "        && \\ddots & \\ddots & \\ddots \\\\\n",
        "        &&& -\\frac{1}{h^2} & \\frac{2}{h^2} & -\\frac{1}{h^2} \\\\\n",
        "        &&&&& 1 \\\\\n",
        "      \\end{bmatrix},\n",
        "  \\qquad\n",
        "  \\underline{\\mathbf{b}} = \\begin{bmatrix} 4 \\\\ 0 \\\\ 0 \\\\ \\vdots \\\\ 0 \\\\ 2 \\end{bmatrix}\n",
        "$$\n",
        "\n",
        "Write function that sets up $A$ and $b$ for a given number of steps $n$.  The easiest way to do this is to define three column vectors containing the entries of the main diagonal ($n+1$ elements), subdiagonal ($n$ elements) and superdiagonal ($n$ elements).  The `np.ones` and `np.hstack` functions are useful here:\n",
        "```\n",
        "main = np.hstack([1., (2./h**2)*np.ones(n-1), 1.])\n",
        "sub = ...\n",
        "sup = ...\n",
        "```\n",
        "These vectors can be combined into a tridiagonal matrix using the `diag` function (run `help(np.diag)` for help with this part):\n",
        "```\n",
        "A = diag(main) + ...\n",
        "```\n",
        "\n",
        "<div class=\"alert alert-warning\">\n",
        "  <h3 style=\"margin-top: 0;\">Checkpoint 3</h3>\n",
        "\n",
        "  Use your function to generate the matrix $A$ for $n=10$.\n",
        "</div>"
      ]
    },
    {
      "cell_type": "code",
      "execution_count": null,
      "metadata": {},
      "outputs": [],
      "source": [
        "type your code here"
      ]
    },
    {
      "cell_type": "markdown",
      "metadata": {},
      "source": [
        "## Question 3: A steady-state heat distribution problem\n",
        "\n",
        "The diagram shows a thin rod, of length $L$ metres, whose ends are kept at fixed temperatures $a$ and $b$ where $a>b$.  The arrows represent heat flow.\n",
        "\n",
        "<img style=\"width: 60%;\" src=\"data:image/png;base64,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\">\n",
        "\n",
        "In the steady-state situation the temperature $T$ is a function of $x$, the distance along the rod, but not a function of time.  If the rod is not insulated along its length, then $T$ is determined by the\n",
        "boundary value problem\n",
        "\n",
        "$$\n",
        "  -\\frac{\\mathrm{d}^2 T}{\\mathrm{d} x^2} + c(T - T_a) = 0, \\qquad T(0) = a, \\qquad T(L) = b\n",
        "$$\n",
        "\n",
        "where $c$ is a heat transfer coefficient for heat loss to the surroundings, and $T_a$ is the temperature of those surroundings.\n",
        "\n",
        "As in the lectures, we divide the rod into $n$ intervals of length $h$.  We replace the derivative term by a central difference approximation, and evaluate the resulting equation at each grid point.  This gives a series of linear equations\n",
        "\n",
        "$$\n",
        "  \\frac{-T_{i-1} \\ + \\ 2T_i \\ - \\ T_{i+1}}{h^2} \\ + \\ c\\,(T_i \\ - \\ T_a) \\ = \\ 0 \\qquad\\qquad(2)\n",
        "$$\n",
        "\n",
        "for $i=1, \\ldots, n-1$, a total of $n-1$ equations in the $n-1$ unknowns $T_1,\\ldots,T_{n-1}$.  We also have the two boundary conditions $T_0=a$ and $T_n=b$.\n",
        "1. Write down **on paper** the matrix $A$ and vector $\\underline{\\mathbf{b}}$ for the system of $n+1$ equations in $n+1$ variables ($T_0,T_1,\\ldots,T_n$).  **Hint:** the first and last rows of the system are just the two boundary conditions, the other rows and given by putting $i=1,2,\\ldots$ into Eq. (2).  The coefficient matrix $A$ should be a tridiagonal $(n+1)\\times(n+1)$ matrix.\n",
        "2. For this lab session use the following values of the parameters: $L = 10\\mathrm{m}$, $T_a  = 1^\\circ\\mathrm{C}$, $a = 200^\\circ\\mathrm{C}$, $b = 40^\\circ\\mathrm{C}$, $c = 0.1\\mathrm{m}^{-2}$.  Write a function that solves the problem to find the temperature values along the rod:\n",
        "    \n",
        "    ```\n",
        "    def rod(n):\n",
        "        ...\n",
        "        return x, T\n",
        "    ```\n",
        "    \n",
        "    **Hints:** It may help to think in terms of the following steps:\n",
        "    <ol type=\"a\">\n",
        "      <li>Calculate the step size $h$ in terms of $L$ and $n$.</li>\n",
        "      <li>Set up a vector <code>x</code> of the appropriate size.</li>\n",
        "      <li>Assemble the tridiagonal coefficient matrix $A$ and the right-hand side vector $\\underline{\\mathbf{b}}$ (you should be able to adapt your code from Question 2).</li>\n",
        "      <li>Solve for the temperatures at the grid points using <code>np.linalg.solve</code>.</li>\n",
        "    </ol>\n",
        "3. Use your function with $n = 5$ steps to find approximate values for the temperatures at $x = 0,\\, 2,\\, \\dots,\\, 10$.\n",
        "    <div class=\"alert alert-warning\">\n",
        "      <h3 style=\"margin-top: 0;\">Checkpoint 4</h3>\n",
        "\n",
        "      Plot your $T$ values as a function of the distance $x$ along the rod.  Check that your answers satisfy the boundary conditions.  Do your answers look plausible from a physical point of view?\n",
        "    </div>"
      ]
    },
    {
      "cell_type": "code",
      "execution_count": null,
      "metadata": {},
      "outputs": [],
      "source": [
        "type your code here"
      ]
    },
    {
      "cell_type": "markdown",
      "metadata": {},
      "source": [
        "4. Repeat the process with double the number of steps, and keep doubling until the values of $T$ for $x = 0,\\, 2,\\, \\dots,\\, 10$ change by less than $0.01$.  Plot your final $T$ values and your initial approximations from the previous checkpoint against $x$ on a single graph.  What happens to the solution as the step size is decreased? Where is the coolest point on the rod?"
      ]
    },
    {
      "cell_type": "code",
      "execution_count": null,
      "metadata": {},
      "outputs": [],
      "source": [
        "type your code here"
      ]
    },
    {
      "cell_type": "code",
      "execution_count": null,
      "metadata": {},
      "outputs": [],
      "source": []
    }
  ],
  "metadata": {
    "kernelspec": {
      "display_name": "Python 3 (ipykernel)",
      "language": "python",
      "name": "python3"
    },
    "language_info": {
      "codemirror_mode": {
        "name": "ipython",
        "version": 3
      },
      "file_extension": ".py",
      "mimetype": "text/x-python",
      "name": "python",
      "nbconvert_exporter": "python",
      "pygments_lexer": "ipython3",
      "version": "3.11.3"
    }
  },
  "nbformat": 4,
  "nbformat_minor": 4
}
