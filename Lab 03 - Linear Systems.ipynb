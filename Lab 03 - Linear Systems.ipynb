{
  "cells": [
    {
      "cell_type": "markdown",
      "metadata": {},
      "source": [
        "<p hidden>$\n",
        "\\newcommand{\\phm}{\\phantom{-}}\n",
        "\\newcommand{\\vb}{\\underline{\\mathbf{b}}}\n",
        "\\newcommand{\\vf}{\\underline{\\mathbf{f}}}\n",
        "\\newcommand{\\vk}{\\underline{\\mathbf{k}}}\n",
        "\\newcommand{\\vx}{\\underline{\\mathbf{x}}}\n",
        "\\newcommand{\\vy}{\\underline{\\mathbf{y}}}\n",
        "\\newcommand{\\deriv}[3][]{\\frac{\\mathrm{d}^{#1}#2}{\\mathrm{d}#3^{#1}}}\n",
        "\\newcommand{\\partderiv}[3][]{\\frac{\\partial^{#1}#2}{\\partial#3^{#1}}}\n",
        "\\newcommand{\\intd}{\\,\\mathrm{d}}\n",
        "\\newcommand{\\rmd}{\\mathrm{d}}\n",
        "\\DeclareMathOperator{\\Uniform}{Uniform}\n",
        "\\DeclareMathOperator{\\Poisson}{Poisson}\n",
        "\\DeclareMathOperator{\\Normal}{Normal}\n",
        "\\DeclareMathOperator{\\Exponential}{Exponential}\n",
        "\\DeclareMathOperator{\\GammaDist}{Gamma}\n",
        "\\DeclareMathOperator{\\Prob}{P}\n",
        "\\DeclareMathOperator{\\Exp}{E}\n",
        "\\DeclareMathOperator{\\Var}{Var}\n",
        "$</p>\n",
        "\n",
        "# Lab 3: Linear Systems\n",
        "\n",
        "### Topics\n",
        "\n",
        "- **Mathematics:** Gaussian elimination; limitations of this basic method.\n",
        "- **Python:** Numpy array indexing, writing code for row operations, back substitution and basic partial pivoting."
      ]
    },
    {
      "cell_type": "code",
      "execution_count": 1,
      "metadata": {},
      "outputs": [],
      "source": [
        "import numpy as np"
      ]
    },
    {
      "cell_type": "markdown",
      "metadata": {},
      "source": [
        "## Basic Gaussian elimination\n",
        "\n",
        "Gaussian elimination is the basic method for solving linear systems by row operations.  For example, consider the linear system $A\\vx = \\vb$ where\n",
        "\n",
        "$$\n",
        "  A = \\begin{bmatrix}\n",
        "        2 & \\phm4 & -1 \\\\\n",
        "        2 & \\phm2 & \\phm8 \\\\\n",
        "        1 & \\phm1 & \\phm9 \\\\\n",
        "      \\end{bmatrix}, \\qquad\n",
        "  \\vb = \\begin{bmatrix} -2 \\\\ \\phm1 \\\\ \\phm0 \\end{bmatrix}.\n",
        "$$\n",
        "\n",
        "**Maths usually numbers the rows 1, 2, 3, but Python numbers them 0, 1, 2.  In this lab we will number the rows 0, 1, 2 in the maths as well, to be consistent.**  The first row operation in the Gaussian elimination process for this system eliminates the 2 from the second row (i.e. row 1): $R_1 \\leftarrow R_1 - R_0$.\n",
        "\n",
        "Enter the matrix $A$ and column vector $\\vb$ as defined above into Python below.  **Be careful about the data type of the arrays**: `np.array([[1, 2], [3, 4]])` will make an array of `int`s, which will cause problems later.  To get an array of `float`s, you need either to have one or more `float`s in the list you pass in, e.g. `np.array([[1., 2.], [3., 4.]])`, or to specify the array data type: `np.array([[1, 2], [3, 4]], dtype=float)`.\n",
        "\n",
        "It's a bit simpler to have $\\vb$ as a 1D array `np.array([a, b, c])` rather than a 2D single-column matrix `np.array([[a], [b], [c]])`, but 2D single-column matrices print out nicer.  Either will work as long as you are consistent.\n",
        "\n",
        "Try typing in commands that do the row operation $R_1 \\leftarrow R_1 - R_0$.  Remember to do the row operation on the right-hand side vector $\\vb$ as well as on $A$.\n",
        "\n",
        "You should use indexing to do the operations.  E.g. `A[0, :]` refers to the whole first row of `A`, as does `A[0]`, so `A[1, :] = A[1, :] + 3*A[0, :]` would do the row operation $R_1 \\leftarrow R_1 + 3R_0$, as would `A[1] = A[1] + 3*A[0]`."
      ]
    },
    {
      "cell_type": "code",
      "execution_count": null,
      "metadata": {},
      "outputs": [],
      "source": []
    },
    {
      "cell_type": "markdown",
      "metadata": {},
      "source": [
        "Write a function `rowop` that performs a specified row operation on a given matrix and column vector:\n",
        "```\n",
        "def rowop(A, b, i, j, r):\n",
        "    A = A.copy()\n",
        "    b = b.copy()\n",
        "    ...\n",
        "    return A, b\n",
        "```\n",
        "Note: like lists and dictionaries, Numpy arrays are passed into functions by reference, not by value.  This means if you modify `A` inside `rowop` without making a copy first, you are actually modifying the original array.  Modifying things passed into functions is usually a bad idea, as it makes the code harder to reason about, and may trip you up.\n",
        "\n",
        "The function `rowop` should take as arguments:\n",
        "- `A`: an $n \\times n$ matrix.\n",
        "- `b`: an $n \\times 1$ column vector.\n",
        "- `i`, `j`: row numbers between $0$ and $n-1$.\n",
        "- `r`: a real number.\n",
        "\n",
        "The function should perform the row operation\n",
        "\n",
        "$$\n",
        "  R_i \\leftarrow R_i + r R_j\n",
        "$$\n",
        "\n",
        "on the matrix `A` and vector `b`.  The new matrix and vector are then returned by the function.\n",
        "\n",
        "**Hint:** You should use indexing to operate on the whole row of `A` with a single command.\n",
        "\n",
        "Check that your `rowop` function works by defining `A` and `b` as above and running\n",
        "```\n",
        "  new_A, new_b = rowop(A, b, 1, 0, -1)\n",
        "```\n",
        "which should give\n",
        "\n",
        "$$\n",
        "  \\mathtt{new}\\_\\mathtt{A} = \\begin{bmatrix} 2 & \\phm4 & -1 \\\\ 0 & -2 & \\phm9 \\\\ 1 & \\phm1 & \\phm9 \\end{bmatrix}\n",
        "  \\!\\qquad \\text{and} \\qquad\n",
        "  \\mathtt{new}\\_\\mathtt{b} = \\begin{bmatrix} -2 \\\\ \\phm3 \\\\ \\phm0 \\end{bmatrix}.\n",
        "$$\n"
      ]
    },
    {
      "cell_type": "code",
      "execution_count": 11,
      "metadata": {},
      "outputs": [
        {
          "data": {
            "text/plain": [
              "(array([[ 1,  2],\n",
              "        [ 0, -2]]),\n",
              " array([[ 1],\n",
              "        [-1]]))"
            ]
          },
          "execution_count": 11,
          "metadata": {},
          "output_type": "execute_result"
        }
      ],
      "source": [
        "import numpy as np\n",
        "\n",
        "def rowop(A,b,i,j,r):\n",
        "    A = A.copy()\n",
        "    b = b.copy()\n",
        "\n",
        "    b[i] = b[i] - (A[i,j]/A[j,j])*b[j]\n",
        "    A[i,:] = A[i,:] - (A[i,j]/A[j,j])*A[j,:]\n",
        "    \n",
        "    return A, b\n",
        "\n",
        "A = np.array([[1,2],[3,4]])\n",
        "b = np.array([[1],[2]])\n",
        "rowop(A, b, 1, 0, 2)"
      ]
    },
    {
      "cell_type": "markdown",
      "metadata": {},
      "source": [
        "`rowop` is now a useful building block, and we won't modify it again.  Below, write code that defines `A` and `b` and uses your `rowop` function three times, to perform the above row operation and two more to reduce $A$ to an upper-triangular matrix (i.e. all entries below the main diagonal are zero)."
      ]
    },
    {
      "cell_type": "code",
      "execution_count": null,
      "metadata": {},
      "outputs": [],
      "source": [
        "type your code here"
      ]
    },
    {
      "cell_type": "markdown",
      "metadata": {},
      "source": [
        "Now write a function `gauss_elim3` that takes in a matrix `A` and right hand side vector `b` and calls `rowop` to perform the (three) required row operations to reduce a general $3 \\times 3$ matrix to upper-triangular form."
      ]
    },
    {
      "cell_type": "code",
      "execution_count": 20,
      "metadata": {},
      "outputs": [
        {
          "data": {
            "text/plain": [
              "(array([[ 1,  2,  3],\n",
              "        [ 0, -1, -2],\n",
              "        [ 0,  0,  0]]),\n",
              " array([[1],\n",
              "        [0],\n",
              "        [0]]))"
            ]
          },
          "execution_count": 20,
          "metadata": {},
          "output_type": "execute_result"
        }
      ],
      "source": [
        "import numpy as np\n",
        "\n",
        "def rowop(A,b,i,j,r):\n",
        "    A = A.copy()\n",
        "    b = b.copy()\n",
        "\n",
        "    c = (A[i,j]/A[j,j])\n",
        "    b[i] = b[i] - c*b[j]\n",
        "    A[i,:] = A[i,:] - c*A[j,:]\n",
        "    \n",
        "    return A, b\n",
        "\n",
        "def gauss_elem3(A, b):\n",
        "    for j in range(0,3):\n",
        "        for i in range(j+1,3):\n",
        "            A, b = rowop(A, b, i, j, 0)\n",
        "    return A, b\n",
        "            \n",
        "A = np.array([[1,2,3],[2,3,4],[3,4,5]])\n",
        "b = np.array([[1],[2],[3]])\n",
        "gauss_elem3(A, b)"
      ]
    },
    {
      "cell_type": "markdown",
      "metadata": {},
      "source": [
        "## Back substitution\n",
        "\n",
        "The next step in solving the linear system is to find $\\vx$ by back substitution.  Below, write a `back_sub3` function that takes in a row-reduced `A` and `b` and returns the solution $\\vx$.\n",
        "```\n",
        "def back_sub3(A, b):\n",
        "    ...\n",
        "    return x\n",
        "```\n",
        "\n",
        "To calculate $\\vx$ by back substitution, start by defining `x` as a $3 \\times 1$ vector of zeros, and then calculating the last element of $\\vx$, `x[2]`:\n",
        "```\n",
        "  x = np.zeros((3, 1))\n",
        "  x[2] = b[2]/A[2, 2]\n",
        "```\n",
        "Now calculate `x[1]` and then `x[0]`.  **Hint:** The command for `x[1]` is NOT: `x[1] = b[1]/A[1, 1]`.  If you can't remember how to do back substitution, **try doing it on paper**, or look at your EMTH118 lecture notes from last year!\n",
        "\n",
        "Test your `back_sub3` function on the results of your `gauss_elim3` function above."
      ]
    },
    {
      "cell_type": "code",
      "execution_count": 43,
      "metadata": {},
      "outputs": [
        {
          "data": {
            "text/plain": [
              "array([[-0.66666667],\n",
              "       [ 0.33333333],\n",
              "       [ 0.25      ]])"
            ]
          },
          "execution_count": 43,
          "metadata": {},
          "output_type": "execute_result"
        }
      ],
      "source": [
        "import numpy as np\n",
        "def back_sub3(A,b):\n",
        "    A = A.copy()\n",
        "    b = b.copy()\n",
        "    \n",
        "    x = np.zeros((3,1))\n",
        "    \n",
        "    x[2] = b[2]/A[2,2]\n",
        "    x[1] = (b[1] - x[2]*A[1,2])/A[1,1]\n",
        "    x[0] = (b[0] - x[2]*A[0,2] - x[1]*A[0,1])/A[0,0]\n",
        "    \n",
        "    return x\n",
        "  \n",
        "A = np.array([[1,2,4],[2,3,4],[3,6,12]])\n",
        "b = np.array([[1],[2],[3]])\n",
        "back_sub3(A, b)  "
      ]
    },
    {
      "cell_type": "markdown",
      "metadata": {},
      "source": [
        "Below, write a `gauss3_basic` function that uses your `gauss_elim3` and `back_sub3` functions and returns the solution $\\vx$:\n",
        "```\n",
        "def gauss3_basic(A, b):\n",
        "    ...\n",
        "    return x\n",
        "```\n",
        "\n",
        "Incorporate these commands into your `gauss3_basic` function to find $\\vx$ by back substitution.  Your functions should not display anything.\n",
        "\n",
        "<div class=\"alert alert-warning\">\n",
        "  <h3 style=\"margin-top: 0;\">Checkpoint 1</h3>\n",
        "\n",
        "  Use <code>gauss3_basic</code> to solve this system $A\\vx = \\vb$ where $A$ is a random $3 \\times 3$ matrix and $\\vb$ is a vector of $1$s.  You can define $A$ and $\\vb$ with the commands\n",
        "<pre><code>A = np.random.rand(3, 3)\n",
        "b = np.ones(3)\n",
        "</code></pre>\n",
        "  Check that the answer given by your function is correct (think about how you can do this).\n",
        "</div>"
      ]
    },
    {
      "cell_type": "code",
      "execution_count": 27,
      "metadata": {},
      "outputs": [
        {
          "name": "stdout",
          "output_type": "stream",
          "text": [
            "[[ 1.66666667]\n",
            " [-0.66666667]\n",
            " [ 0.16666667]]\n"
          ]
        }
      ],
      "source": [
        "import numpy as np\n",
        "\n",
        "def rowop(A,b,i,j,r):\n",
        "    A = A.copy()\n",
        "    b = b.copy()\n",
        "\n",
        "    c = (A[i,j]/A[j,j])\n",
        "    b[i] = b[i] - c*b[j]\n",
        "    A[i,:] = A[i,:] - c*A[j,:]\n",
        "    \n",
        "    return A, b\n",
        "\n",
        "def gauss_elem3(A, b):\n",
        "    for j in range(0,3):\n",
        "        for i in range(j+1,3):\n",
        "            A, b = rowop(A, b, i, j, 0)\n",
        "    return A, b\n",
        "\n",
        "def back_sub3(A,b):\n",
        "    A = A.copy()\n",
        "    b = b.copy()\n",
        "    \n",
        "    x = np.zeros((3,1))\n",
        "    \n",
        "    x[2] = b[2]/A[2,2]\n",
        "    x[1] = (b[1] - x[2]*A[1,2])/A[1,1]\n",
        "    x[0] = (b[0] - x[2]*A[0,2] - x[1]*A[0,1])/A[0,0]\n",
        "    \n",
        "    return x\n",
        "\n",
        "def rand_A_b():\n",
        "    b = np.ones(3)\n",
        "    A = np.random.rand(3,3)\n",
        "    return A, b\n",
        "\n",
        "A = np.array([[1,2,4],[2,3,4],[1,2,16]])\n",
        "b = np.array([[1],[2],[3]])\n",
        "\n",
        "# A, b = rand_A_b()\n",
        "\n",
        "A, b = gauss_elem3(A, b)\n",
        "\n",
        "x = back_sub3(A,b)\n",
        "\n",
        "print(x)\n"
      ]
    },
    {
      "cell_type": "markdown",
      "metadata": {},
      "source": [
        "## Problems with the basic method\n",
        "Now try using `gauss3_basic` to solve $A\\vx = \\vb$ where $\\vb$ is a vector of $1$s and\n",
        "\n",
        "$$\n",
        "  \\textrm{(i)} \\qquad\n",
        "  A = \\begin{bmatrix}\n",
        "        \\phm0 & \\phm1 & \\phm2 \\\\\n",
        "        \\phm1 & -1 & \\phm8 \\\\\n",
        "        -4 & -1 & \\phm3 \\\\\n",
        "      \\end{bmatrix},\n",
        "  \\qquad \\qquad\n",
        "  \\textrm{(ii)} \\qquad\n",
        "  A = \\begin{bmatrix}\n",
        "        2 & \\phm2 & -1 \\\\\n",
        "        2 & \\phm2 & \\phm8 \\\\\n",
        "        1 & -1 & \\phm9 \\\\\n",
        "      \\end{bmatrix}.\n",
        "$$\n",
        "\n",
        "What do you think went wrong?\n",
        "\n",
        "Reminder: Make sure your arrays are arrays of `float`s."
      ]
    },
    {
      "cell_type": "code",
      "execution_count": null,
      "metadata": {},
      "outputs": [],
      "source": [
        "type your code here"
      ]
    },
    {
      "cell_type": "markdown",
      "metadata": {},
      "source": [
        "Below, make a copy of `gauss_elim3` called `gauss_elim_pivot3` and modify it so that it can cope with this type of problem.  Make a copy of `gauss3_basic` called `gauss3` that uses the new `gauss_elim_pivot3` function.\n",
        "\n",
        "**Hint:** You can index with lists, not just numbers, so e.g. `A[[0, 2]]` will give you rows 0 and 2.  This makes swapping rows easy: `A[[0, 1]] = A[[1, 0]]` will swap the first two rows.\n",
        "\n",
        "**Hint 2:** You may find `np.argmax` useful.  It returns the index of the maximum element.  Alternatively, you can find the maximum location with `if` and `>`.\n",
        "\n",
        "<div class=\"alert alert-warning\">\n",
        "  <h3 style=\"margin-top: 0;\">Checkpoint 2</h3>\n",
        "\n",
        "  Use your new function to solve these two systems $A\\vx = \\vb$.  Check that the answer given by your function is correct.\n",
        "</div>"
      ]
    },
    {
      "cell_type": "code",
      "execution_count": 1,
      "metadata": {},
      "outputs": [
        {
          "name": "stdout",
          "output_type": "stream",
          "text": [
            "[[-9.11518626e-04]\n",
            " [ 1.37103244e+00]\n",
            " [ 2.15608324e-01]]\n"
          ]
        }
      ],
      "source": [
        "import numpy as np\n",
        "\n",
        "def rowop(A,b,i,j,r):\n",
        "    A = A.copy()\n",
        "    b = b.copy()\n",
        "\n",
        "    c = (A[i,j]/A[j,j])\n",
        "    b[i] = b[i] - c*b[j]\n",
        "    A[i,:] = A[i,:] - c*A[j,:]\n",
        "    \n",
        "    return A, b\n",
        "\n",
        "def gauss_elem_pivot3(A, b):\n",
        "    for j in range(0,3):\n",
        "        max_pivot = -1\n",
        "\n",
        "        for a in range(j,3):\n",
        "            if np.abs(A[a,j]) > max_pivot:\n",
        "                max_pivot = np.abs(A[a,j])\n",
        "                index = a\n",
        "\n",
        "        A[[j, index]] = A[[index,j]]\n",
        "        \n",
        "        for i in range(j+1,3):\n",
        "            A, b = rowop(A, b, i, j, 0)\n",
        "    return A, b\n",
        "\n",
        "def back_sub3(A,b):\n",
        "    A = A.copy()\n",
        "    b = b.copy()\n",
        "    \n",
        "    x = np.zeros((3,1))\n",
        "    \n",
        "    x[2] = b[2]/A[2,2]\n",
        "    x[1] = (b[1] - x[2]*A[1,2])/A[1,1]\n",
        "    x[0] = (b[0] - x[2]*A[0,2] - x[1]*A[0,1])/A[0,0]\n",
        "    \n",
        "    return x\n",
        "\n",
        "def rand_A_b():\n",
        "    b = np.ones(3)\n",
        "    A = np.random.rand(3,3)\n",
        "    return A, b\n",
        "\n",
        "A, b = rand_A_b()\n",
        "\n",
        "A, b = gauss_elem_pivot3(A, b)\n",
        "\n",
        "x = back_sub3(A,b)\n",
        "\n",
        "print(x)\n"
      ]
    },
    {
      "cell_type": "markdown",
      "metadata": {},
      "source": [
        "## General systems of $n$ linear equations\n",
        "Below, make copies of your original `gauss_elim3`, `back_sub3`, and `gauss3_basic` functions (the versions without pivoting) called `gauss_elim`, `back_sub`, and `gauss_basic`, and modify them so that `gauss_basic` can solve a general system of $n$ linear equations, where $n$ can be any positive integer.  (You don't need to worry about pivoting here.)\n",
        "\n",
        "**Hint:** you will need to use two nested `for` loops to do the elimination process, followed by another two nested `for` loops for the back substitution process.  Think about which matrix entries you would need to ‘eliminate’ (i.e. make into zeros), and the order in which you would eliminate them, if you were doing Gaussian elimination on a large matrix.  Your first set of nested `for` loops should go through these entries in the same order, performing the necessary row operation at each step to eliminate that entry.  Your second set of nested loops should perform a similar procedure for back substitution.\n",
        "\n",
        "<div class=\"alert alert-warning\">\n",
        "  <h3 style=\"margin-top: 0;\">Checkpoint 3</h3>\n",
        "\n",
        "  Use your code to solve $A\\vx = \\vb$ where $A$ is a random $10 \\times 10$ matrix and $\\vb$ is a vector of $1$s.  Check that the answer given by your function is correct.\n",
        "</div>"
      ]
    },
    {
      "cell_type": "code",
      "execution_count": 14,
      "metadata": {
        "scrolled": true
      },
      "outputs": [
        {
          "name": "stdout",
          "output_type": "stream",
          "text": [
            "[[ 1  2  3]\n",
            " [ 0 -1 -2]\n",
            " [ 0  0 -1]]\n",
            "[[ 4.]\n",
            " [-2.]\n",
            " [ 1.]]\n"
          ]
        }
      ],
      "source": [
        "import numpy as np\n",
        "\n",
        "def rowop(A,b,i,j,r):\n",
        "    A = A.copy()\n",
        "    b = b.copy()\n",
        "\n",
        "    c = (A[i,j]/A[j,j])\n",
        "    b[i] = b[i] - c*b[j]\n",
        "    A[i,:] = A[i,:] - c*A[j,:]\n",
        "    \n",
        "    return A, b\n",
        "\n",
        "def gauss_elem_pivot3(A, b):\n",
        "    for j in range(0,3):\n",
        "        max_pivot = -1\n",
        "\n",
        "        for a in range(j,3):\n",
        "            if np.abs(A[a,j]) > max_pivot:\n",
        "                max_pivot = np.abs(A[a,j])\n",
        "                index = a\n",
        "\n",
        "        A[[j, index]] = A[[index,j]]\n",
        "        \n",
        "        for i in range(j+1,3):\n",
        "            A, b = rowop(A, b, i, j, 0)\n",
        "    return A, b\n",
        "\n",
        "def gauss_elem3(A, b):\n",
        "    for j in range(0,len(A)):\n",
        "        for i in range(j+1,len(A[:])):\n",
        "            A, b = rowop(A, b, i, j, 0)\n",
        "    return A, b\n",
        "\n",
        "def back_sub3(A,b):\n",
        "    A = A.copy()\n",
        "    b = b.copy()\n",
        "    x = np.zeros((len(A),1))\n",
        "    s = 0\n",
        "    for i in range(len(A)-1, -1, -1):\n",
        "        for j in range(len(A)-1, i-1, -1):\n",
        "            s = s + A[i,j]*x[j]\n",
        "        x[i] = (b[i]-s)/A[i,i]\n",
        "    return x\n",
        "\n",
        "def rand_A_b():\n",
        "    n = 6\n",
        "    b = np.ones(n)\n",
        "    A = np.random.rand(n,n)\n",
        "    return A, b\n",
        "\n",
        "# A, b = rand_A_b()\n",
        "\n",
        "A = np.array([[1,2,3],[2,3,4],[4,5,5]])\n",
        "b = np.array([[1],[2],[3]])\n",
        "\n",
        "A, b = gauss_elem3(A, b)\n",
        "print(A)\n",
        "x = back_sub3(A,b)\n",
        "\n",
        "print(x)\n"
      ]
    },
    {
      "cell_type": "code",
      "execution_count": null,
      "metadata": {},
      "outputs": [],
      "source": []
    }
  ],
  "metadata": {
    "kernelspec": {
      "display_name": "Python 3 (ipykernel)",
      "language": "python",
      "name": "python3"
    },
    "language_info": {
      "codemirror_mode": {
        "name": "ipython",
        "version": 3
      },
      "file_extension": ".py",
      "mimetype": "text/x-python",
      "name": "python",
      "nbconvert_exporter": "python",
      "pygments_lexer": "ipython3",
      "version": "3.11.3"
    }
  },
  "nbformat": 4,
  "nbformat_minor": 4
}
